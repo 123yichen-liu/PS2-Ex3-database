{
 "cells": [
  {
   "cell_type": "code",
   "execution_count": 11,
   "metadata": {},
   "outputs": [
    {
     "ename": "DatabaseError",
     "evalue": "Execution failed on sql 'SELECT * FROM game LIMIT 10': no such table: game",
     "output_type": "error",
     "traceback": [
      "\u001b[1;31m---------------------------------------------------------------------------\u001b[0m",
      "\u001b[1;31mOperationalError\u001b[0m                          Traceback (most recent call last)",
      "File \u001b[1;32mc:\\Users\\HP\\anaconda3\\Lib\\site-packages\\pandas\\io\\sql.py:2674\u001b[0m, in \u001b[0;36mSQLiteDatabase.execute\u001b[1;34m(self, sql, params)\u001b[0m\n\u001b[0;32m   2673\u001b[0m \u001b[38;5;28;01mtry\u001b[39;00m:\n\u001b[1;32m-> 2674\u001b[0m     cur\u001b[38;5;241m.\u001b[39mexecute(sql, \u001b[38;5;241m*\u001b[39margs)\n\u001b[0;32m   2675\u001b[0m     \u001b[38;5;28;01mreturn\u001b[39;00m cur\n",
      "\u001b[1;31mOperationalError\u001b[0m: no such table: game",
      "\nThe above exception was the direct cause of the following exception:\n",
      "\u001b[1;31mDatabaseError\u001b[0m                             Traceback (most recent call last)",
      "Cell \u001b[1;32mIn[11], line 13\u001b[0m\n\u001b[0;32m     11\u001b[0m \u001b[38;5;66;03m# Query the first 10 rows from the game table\u001b[39;00m\n\u001b[0;32m     12\u001b[0m query \u001b[38;5;241m=\u001b[39m \u001b[38;5;124m'\u001b[39m\u001b[38;5;124mSELECT * FROM game LIMIT 10\u001b[39m\u001b[38;5;124m'\u001b[39m\n\u001b[1;32m---> 13\u001b[0m top_10_game \u001b[38;5;241m=\u001b[39m pd\u001b[38;5;241m.\u001b[39mread_sql(query, con)\n\u001b[0;32m     14\u001b[0m top_10_game\u001b[38;5;241m.\u001b[39mhead()  \u001b[38;5;66;03m# Display the first 10 rows\u001b[39;00m\n\u001b[0;32m     16\u001b[0m \u001b[38;5;66;03m# Inspect the schema of the database\u001b[39;00m\n",
      "File \u001b[1;32mc:\\Users\\HP\\anaconda3\\Lib\\site-packages\\pandas\\io\\sql.py:706\u001b[0m, in \u001b[0;36mread_sql\u001b[1;34m(sql, con, index_col, coerce_float, params, parse_dates, columns, chunksize, dtype_backend, dtype)\u001b[0m\n\u001b[0;32m    704\u001b[0m \u001b[38;5;28;01mwith\u001b[39;00m pandasSQL_builder(con) \u001b[38;5;28;01mas\u001b[39;00m pandas_sql:\n\u001b[0;32m    705\u001b[0m     \u001b[38;5;28;01mif\u001b[39;00m \u001b[38;5;28misinstance\u001b[39m(pandas_sql, SQLiteDatabase):\n\u001b[1;32m--> 706\u001b[0m         \u001b[38;5;28;01mreturn\u001b[39;00m pandas_sql\u001b[38;5;241m.\u001b[39mread_query(\n\u001b[0;32m    707\u001b[0m             sql,\n\u001b[0;32m    708\u001b[0m             index_col\u001b[38;5;241m=\u001b[39mindex_col,\n\u001b[0;32m    709\u001b[0m             params\u001b[38;5;241m=\u001b[39mparams,\n\u001b[0;32m    710\u001b[0m             coerce_float\u001b[38;5;241m=\u001b[39mcoerce_float,\n\u001b[0;32m    711\u001b[0m             parse_dates\u001b[38;5;241m=\u001b[39mparse_dates,\n\u001b[0;32m    712\u001b[0m             chunksize\u001b[38;5;241m=\u001b[39mchunksize,\n\u001b[0;32m    713\u001b[0m             dtype_backend\u001b[38;5;241m=\u001b[39mdtype_backend,\n\u001b[0;32m    714\u001b[0m             dtype\u001b[38;5;241m=\u001b[39mdtype,\n\u001b[0;32m    715\u001b[0m         )\n\u001b[0;32m    717\u001b[0m     \u001b[38;5;28;01mtry\u001b[39;00m:\n\u001b[0;32m    718\u001b[0m         _is_table_name \u001b[38;5;241m=\u001b[39m pandas_sql\u001b[38;5;241m.\u001b[39mhas_table(sql)\n",
      "File \u001b[1;32mc:\\Users\\HP\\anaconda3\\Lib\\site-packages\\pandas\\io\\sql.py:2738\u001b[0m, in \u001b[0;36mSQLiteDatabase.read_query\u001b[1;34m(self, sql, index_col, coerce_float, parse_dates, params, chunksize, dtype, dtype_backend)\u001b[0m\n\u001b[0;32m   2727\u001b[0m \u001b[38;5;28;01mdef\u001b[39;00m \u001b[38;5;21mread_query\u001b[39m(\n\u001b[0;32m   2728\u001b[0m     \u001b[38;5;28mself\u001b[39m,\n\u001b[0;32m   2729\u001b[0m     sql,\n\u001b[1;32m   (...)\u001b[0m\n\u001b[0;32m   2736\u001b[0m     dtype_backend: DtypeBackend \u001b[38;5;241m|\u001b[39m Literal[\u001b[38;5;124m\"\u001b[39m\u001b[38;5;124mnumpy\u001b[39m\u001b[38;5;124m\"\u001b[39m] \u001b[38;5;241m=\u001b[39m \u001b[38;5;124m\"\u001b[39m\u001b[38;5;124mnumpy\u001b[39m\u001b[38;5;124m\"\u001b[39m,\n\u001b[0;32m   2737\u001b[0m ) \u001b[38;5;241m-\u001b[39m\u001b[38;5;241m>\u001b[39m DataFrame \u001b[38;5;241m|\u001b[39m Iterator[DataFrame]:\n\u001b[1;32m-> 2738\u001b[0m     cursor \u001b[38;5;241m=\u001b[39m \u001b[38;5;28mself\u001b[39m\u001b[38;5;241m.\u001b[39mexecute(sql, params)\n\u001b[0;32m   2739\u001b[0m     columns \u001b[38;5;241m=\u001b[39m [col_desc[\u001b[38;5;241m0\u001b[39m] \u001b[38;5;28;01mfor\u001b[39;00m col_desc \u001b[38;5;129;01min\u001b[39;00m cursor\u001b[38;5;241m.\u001b[39mdescription]\n\u001b[0;32m   2741\u001b[0m     \u001b[38;5;28;01mif\u001b[39;00m chunksize \u001b[38;5;129;01mis\u001b[39;00m \u001b[38;5;129;01mnot\u001b[39;00m \u001b[38;5;28;01mNone\u001b[39;00m:\n",
      "File \u001b[1;32mc:\\Users\\HP\\anaconda3\\Lib\\site-packages\\pandas\\io\\sql.py:2686\u001b[0m, in \u001b[0;36mSQLiteDatabase.execute\u001b[1;34m(self, sql, params)\u001b[0m\n\u001b[0;32m   2683\u001b[0m     \u001b[38;5;28;01mraise\u001b[39;00m ex \u001b[38;5;28;01mfrom\u001b[39;00m \u001b[38;5;21;01minner_exc\u001b[39;00m\n\u001b[0;32m   2685\u001b[0m ex \u001b[38;5;241m=\u001b[39m DatabaseError(\u001b[38;5;124mf\u001b[39m\u001b[38;5;124m\"\u001b[39m\u001b[38;5;124mExecution failed on sql \u001b[39m\u001b[38;5;124m'\u001b[39m\u001b[38;5;132;01m{\u001b[39;00msql\u001b[38;5;132;01m}\u001b[39;00m\u001b[38;5;124m'\u001b[39m\u001b[38;5;124m: \u001b[39m\u001b[38;5;132;01m{\u001b[39;00mexc\u001b[38;5;132;01m}\u001b[39;00m\u001b[38;5;124m\"\u001b[39m)\n\u001b[1;32m-> 2686\u001b[0m \u001b[38;5;28;01mraise\u001b[39;00m ex \u001b[38;5;28;01mfrom\u001b[39;00m \u001b[38;5;21;01mexc\u001b[39;00m\n",
      "\u001b[1;31mDatabaseError\u001b[0m: Execution failed on sql 'SELECT * FROM game LIMIT 10': no such table: game"
     ]
    }
   ],
   "source": [
    "import sqlite3 as sql\n",
    "import pandas as pd\n",
    "from pathlib import Path\n",
    "\n",
    "# Import the function from nba_analysis.py\n",
    "from nba_analysis import create_and_populate_tables\n",
    "\n",
    "# Run the function to create tables and populate data in the SQLite database\n",
    "create_and_populate_tables()\n",
    "\n",
    "# Use pathlib to get the path to the data directory\n",
    "DATA_PATH = Path.cwd() / 'data' / 'nba_database.sqlite'\n",
    "\n",
    "# Connect to the database\n",
    "con = sql.connect(DATA_PATH)\n",
    "\n",
    "# Query the first 10 rows from the game table\n",
    "query = 'SELECT * FROM game LIMIT 10'\n",
    "top_10_game = pd.read_sql(query, con)\n",
    "top_10_game.head()  # Display the first 10 rows\n",
    "\n",
    "# Inspect the schema of the database to see all tables and their details\n",
    "query = \"\"\"\n",
    "    SELECT *\n",
    "    FROM sqlite_master\n",
    "    WHERE type='table'\n",
    "\"\"\"\n",
    "schema = pd.read_sql(query, con).sort_values('name')\n",
    "print(\"Database Schema:\\n\", schema)\n",
    "\n",
    "# View a list of all table names in the database\n",
    "query = \"\"\"\n",
    "    SELECT name\n",
    "    FROM sqlite_master\n",
    "    WHERE type='table'\n",
    "\"\"\"\n",
    "tables = pd.read_sql(query, con)\n",
    "print(\"Tables in the database:\\n\", tables)\n",
    "\n",
    "# Inspect the columns in the 'game' table to verify structure\n",
    "query = \"\"\"\n",
    "    PRAGMA table_info(game)\n",
    "\"\"\"\n",
    "game_table_info = pd.read_sql(query, con)\n",
    "print(\"Columns in 'game' table:\\n\", game_table_info)\n",
    "\n",
    "# Query to find the earliest recorded game date\n",
    "query = \"\"\"\n",
    "    SELECT game_date\n",
    "    FROM game\n",
    "    ORDER BY game_date\n",
    "    LIMIT 1\n",
    "\"\"\"\n",
    "earliest_game = pd.read_sql(query, con)\n",
    "print(\"Earliest Recorded Game:\\n\", earliest_game)\n",
    "\n",
    "# Query to find the latest recorded game date\n",
    "query = \"\"\"\n",
    "    SELECT game_date\n",
    "    FROM game\n",
    "    ORDER BY game_date DESC\n",
    "    LIMIT 1\n",
    "\"\"\"\n",
    "latest_game = pd.read_sql(query, con)\n",
    "print(\"Latest Recorded Game:\\n\", latest_game)\n",
    "\n",
    "# Example 1: Find the player with the most points scored in a game\n",
    "query = \"\"\"\n",
    "    SELECT player_name, MAX(points) AS max_points\n",
    "    FROM player_stats\n",
    "    GROUP BY player_name\n",
    "    ORDER BY max_points DESC\n",
    "    LIMIT 1\n",
    "\"\"\"\n",
    "top_scorer = pd.read_sql(query, con)\n",
    "print(\"Top Scorer:\\n\", top_scorer)\n",
    "\n",
    "# Example 2: Find the team with the most wins\n",
    "query = \"\"\"\n",
    "    SELECT team_name, COUNT(*) AS win_count\n",
    "    FROM game\n",
    "    WHERE win='1'\n",
    "    GROUP BY team_name\n",
    "    ORDER BY win_count DESC\n",
    "    LIMIT 1\n",
    "\"\"\"\n",
    "top_winning_team = pd.read_sql(query, con)\n",
    "print(\"Top Winning Team:\\n\", top_winning_team)\n",
    "\n",
    "# Example 3: Find the average points scored per game by each team\n",
    "query = \"\"\"\n",
    "    SELECT team_name, AVG(points) AS avg_points\n",
    "    FROM game_stats\n",
    "    GROUP BY team_name\n",
    "    ORDER BY avg_points DESC\n",
    "\"\"\"\n",
    "avg_points_per_team = pd.read_sql(query, con)\n",
    "print(\"Average Points per Team:\\n\", avg_points_per_team)\n",
    "\n",
    "# Example 4: Find the most common game location\n",
    "query = \"\"\"\n",
    "    SELECT arena, COUNT(*) AS game_count\n",
    "    FROM game\n",
    "    GROUP BY arena\n",
    "    ORDER BY game_count DESC\n",
    "    LIMIT 1\n",
    "\"\"\"\n",
    "most_common_arena = pd.read_sql(query, con)\n",
    "print(\"Most Common Arena:\\n\", most_common_arena)\n"
   ]
  },
  {
   "cell_type": "code",
   "execution_count": 3,
   "metadata": {},
   "outputs": [
    {
     "name": "stdout",
     "output_type": "stream",
     "text": [
      "c:\\Users\\HP\\PS2-Ex3-database\\data\\nba_database.sqlite\n",
      "File exists: True\n"
     ]
    }
   ],
   "source": [
    "import os\n",
    "print(DATA_PATH) \n",
    "print(\"File exists:\", os.path.exists(DATA_PATH)) \n"
   ]
  },
  {
   "cell_type": "code",
   "execution_count": 4,
   "metadata": {},
   "outputs": [
    {
     "name": "stdout",
     "output_type": "stream",
     "text": [
      "Empty DataFrame\n",
      "Columns: [name]\n",
      "Index: []\n"
     ]
    }
   ],
   "source": [
    "\n",
    "query = \"\"\"\n",
    "    SELECT name\n",
    "    FROM sqlite_master\n",
    "    WHERE type='table'\n",
    "\"\"\"\n",
    "print(pd.read_sql(query, con))\n"
   ]
  }
 ],
 "metadata": {
  "kernelspec": {
   "display_name": "base",
   "language": "python",
   "name": "python3"
  },
  "language_info": {
   "codemirror_mode": {
    "name": "ipython",
    "version": 3
   },
   "file_extension": ".py",
   "mimetype": "text/x-python",
   "name": "python",
   "nbconvert_exporter": "python",
   "pygments_lexer": "ipython3",
   "version": "3.12.7"
  }
 },
 "nbformat": 4,
 "nbformat_minor": 2
}
